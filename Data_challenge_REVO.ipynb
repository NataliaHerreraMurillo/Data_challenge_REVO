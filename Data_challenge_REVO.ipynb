{
 "cells": [
  {
   "cell_type": "code",
   "execution_count": 8,
   "id": "4eb147fb",
   "metadata": {},
   "outputs": [],
   "source": [
    "from database_handler import DatabaseHandler\n",
    "from preprocessing import clean_year_column, impute_km_with_random_forest\n",
    "from dataframe_transformer import DataFrameTransformer"
   ]
  },
  {
   "cell_type": "markdown",
   "id": "5f7e8844",
   "metadata": {},
   "source": [
    "Reading the data from PostgreSQL"
   ]
  },
  {
   "cell_type": "code",
   "execution_count": 9,
   "id": "9022a36f",
   "metadata": {},
   "outputs": [],
   "source": [
    "# Create an instance of the DatabaseHandler\n",
    "db_handler = DatabaseHandler(\n",
    "    host=\"localhost\",\n",
    "    port=\"5432\",\n",
    "    dbname=\"Data_challenge_REVO\",\n",
    "    user=\"postgres\",\n",
    "    password=\"perrito\"\n",
    ")"
   ]
  },
  {
   "cell_type": "code",
   "execution_count": 10,
   "id": "2b1fb23d",
   "metadata": {},
   "outputs": [],
   "source": [
    "# Connect to the database\n",
    "db_handler.connect()\n",
    "\n",
    "# Load data from tables to dataframes\n",
    "df_trips = db_handler.load_data('trips')\n",
    "df_region = db_handler.load_data('region')\n",
    "df_population = db_handler.load_data('population')\n",
    "df_urbanization_level = db_handler.load_data('urbanization_level')\n",
    "df_travel_mode = db_handler.load_data('travel_mode')\n",
    "df_travel_motives = db_handler.load_data('travel_motives')\n",
    "\n",
    "# Close the database connection\n",
    "db_handler.close()"
   ]
  },
  {
   "cell_type": "markdown",
   "id": "5a403936",
   "metadata": {},
   "source": [
    "Cleaning"
   ]
  },
  {
   "cell_type": "code",
   "execution_count": 11,
   "id": "25f4d05c",
   "metadata": {},
   "outputs": [],
   "source": [
    "# Cleaning format of the year column\n",
    "df_trips = clean_year_column(df_trips, 'periods')"
   ]
  },
  {
   "cell_type": "markdown",
   "id": "079bd9b3",
   "metadata": {},
   "source": [
    "Question 1: Show the total number of trips for people who went grocery shopping grouped by travel method and level of urbanization\n",
    "across all the years."
   ]
  },
  {
   "cell_type": "code",
   "execution_count": 12,
   "id": "74f30c5c",
   "metadata": {},
   "outputs": [],
   "source": [
    "# Create an instance of DataFrameTransformer with the original dataframe\n",
    "transformer1 = DataFrameTransformer(df_trips)\n",
    "\n",
    "# Apply transformations\n",
    "df_grocery_shopping_grouped_trips = (\n",
    "    transformer1\n",
    "    .filter_by_column_value('travelmotives', 2030200) # Filter for grocery shopping\n",
    "    .merge_multiple_dataframes([\n",
    "        (df_travel_mode, 'travelmodes', 'code', 'left'), # Merge with travel mode data\n",
    "        (df_region, 'regioncharacteristics', 'code', 'left'), # Merge with region data\n",
    "        (df_urbanization_level, 'region', 'provinces', 'left') # Merge with urbanization level data\n",
    "    ])\n",
    "    # Address missing values after the merge, since a match was not found for some codes\n",
    "    .fill_missing_categorical_values(['mode', 'level_urbanization']) \n",
    "    # Group by travel method and level of urbanization across all the years\n",
    "    # The total number of trips was calculated using a sum() of the previously groupped categories\n",
    "    .group_and_sum(['mode', 'level_urbanization', 'periods'], 'trip_in_a_year', 'total_number_of_trips')\n",
    "    # Rearrange categories to improve readability of the dataframe\n",
    "    .reorder_categories('mode', ['Other', 'Unknown'])\n",
    "    # Create a column with the desired ordered of the labels, to help during the visualization tasks in PowerBI\n",
    "    .apply_mappings()\n",
    "    .get_dataframe()\n",
    ")\n",
    "\n",
    "# Save results\n",
    "df_grocery_shopping_grouped_trips.to_csv('df_grocery_shopping_grouped_trips.csv', index=False)"
   ]
  },
  {
   "cell_type": "markdown",
   "id": "495af2a9",
   "metadata": {},
   "source": [
    "Question 2: Show the users in west Netherlands who travelled the most by bike (in terms of kms) to go to work."
   ]
  },
  {
   "cell_type": "code",
   "execution_count": 13,
   "id": "b978ee4b",
   "metadata": {},
   "outputs": [],
   "source": [
    "# Create an instance of DataFrameTransformer with the original dataframe\n",
    "transformer2 = DataFrameTransformer(df_trips)\n",
    "\n",
    "# Apply transformations\n",
    "df_top_bikers_west_Netherlands = (\n",
    "    transformer2\n",
    "    .filter_by_column_value('travelmodes', 'A018984')  # Filter for bike trips\n",
    "    .filter_by_column_value('travelmotives', 2030170)  # Filter for trips to work\n",
    "    .merge_multiple_dataframes([\n",
    "        (df_region, 'regioncharacteristics', 'code', 'left'), # Merge with region data\n",
    "        (df_urbanization_level, 'region', 'provinces', 'left') # Merge level of urbanization data\n",
    "    ])\n",
    "    .filter_by_column_value('area', 'West-Nederland (LD)')  # Filter for region of interest\n",
    "    # The total km travelled was calculated using a sum() of the previously groupped categories\n",
    "    .group_and_sum(['userid'], 'km_travelled_in_a_year', 'total_km_travelled_in_a_year')\n",
    "    .sort('total_km_travelled_in_a_year', ascending=False)\n",
    "    .get_dataframe()\n",
    "    .head(50)\n",
    ")\n",
    "\n",
    "# Save results \n",
    "df_top_bikers_west_Netherlands.to_csv('df_top_bikers_west_Netherlands.csv', index=False)"
   ]
  },
  {
   "cell_type": "markdown",
   "id": "b67a584f",
   "metadata": {},
   "source": [
    "Data imputation"
   ]
  },
  {
   "cell_type": "markdown",
   "id": "082a6914",
   "metadata": {},
   "source": [
    "Note: for question 3, after applying the conditions requested, the number of motives of travel was very reduced. So, I explored the use of the columns 'hours_travelled_in_a_year' and 'travelmodes' to predict the corresponding 'Km travelled in a year' and get some more data. \n",
    "\n",
    "Nevertheless, the number of rows was still very small an this approach had no impact. "
   ]
  },
  {
   "cell_type": "code",
   "execution_count": null,
   "id": "8c90fae9",
   "metadata": {},
   "outputs": [],
   "source": [
    "# Imputes missing 'Km travelled in a year' values in a DataFrame using RandomForestRegressor.\n",
    "# Only for cases where 'hours_travelled_in_a_year' and 'travelmodes' are present. \n",
    "df_trips_imputed = impute_km_with_random_forest(df_trips)"
   ]
  },
  {
   "cell_type": "markdown",
   "id": "b14a5d39",
   "metadata": {},
   "source": [
    "Question 3: Taking the top 8 users above 35 years old who travel the most km by bike, show the 3 least common motives of travel in year 2022."
   ]
  },
  {
   "cell_type": "code",
   "execution_count": 15,
   "id": "2a817c90",
   "metadata": {},
   "outputs": [],
   "source": [
    "# Create an instance of DataFrameTransformer with the original dataframe\n",
    "transformer3 = DataFrameTransformer(df_trips_imputed)\n",
    "\n",
    "# Apply transformations to identify top 8 bikers\n",
    "df_top_bikers = (\n",
    "    transformer3\n",
    "    .filter_by_column_value('population', 'A048709') # Filter for population over 35 years old\n",
    "    .filter_by_column_value('travelmodes', 'A018984') # Filter for bike trips\n",
    "    .group_and_sum(['userid'], 'km_travelled_in_a_year', 'total_km_travelled')\n",
    "    .sort('total_km_travelled', ascending=False)\n",
    "    .get_dataframe()\n",
    "    .nlargest(8, 'total_km_travelled')['userid']\n",
    ")\n",
    "\n",
    "# Create another instance for processing trips of top bikers in 2022\n",
    "transformer4 = DataFrameTransformer(df_trips_imputed)\n",
    "\n",
    "# Apply transformations to process trips of top bikers in 2022 and count travel motives\n",
    "df_least_common_motives = (\n",
    "    transformer4\n",
    "    .filter_by_column_value('periods', '2022') # Filter for trips in 2022\n",
    "    .filter_by_values_in_list('userid', df_top_bikers) # Filter the rows corresponding to the 8 top bikers\n",
    "    .merge_multiple_dataframes([\n",
    "        (df_travel_motives, 'travelmotives', 'code', 'left') # Merge with travel motive data\n",
    "    ])\n",
    "    .count_values('motive', 'motive_count')\n",
    "    .get_dataframe()\n",
    ")\n",
    "\n",
    "# Save results\n",
    "df_least_common_motives.to_csv('df_least_common_motives.csv', index=False)"
   ]
  }
 ],
 "metadata": {
  "kernelspec": {
   "display_name": "Python 3 (ipykernel)",
   "language": "python",
   "name": "python3"
  },
  "language_info": {
   "codemirror_mode": {
    "name": "ipython",
    "version": 3
   },
   "file_extension": ".py",
   "mimetype": "text/x-python",
   "name": "python",
   "nbconvert_exporter": "python",
   "pygments_lexer": "ipython3",
   "version": "3.7.11"
  }
 },
 "nbformat": 4,
 "nbformat_minor": 5
}
